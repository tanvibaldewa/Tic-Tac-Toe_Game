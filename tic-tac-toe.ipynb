{
 "cells": [
  {
   "cell_type": "code",
   "execution_count": null,
   "metadata": {},
   "outputs": [],
   "source": [
    "board = {'T1': ' ' , 'T2': ' ' , 'T3': ' ' ,\n",
    "\n",
    "         'M1': ' ' , 'M2': ' ' , 'M3': ' ' ,\n",
    "\n",
    "         'D1': ' ' , 'D2': ' ' , 'D3': ' ' }\n",
    "print('T1 | T2 | T3')\n",
    "print('---|----|---')\n",
    "print('M1 | M2 | M3')\n",
    "print('---|----|---')\n",
    "print('D1 | D2 | D3')\n",
    "print('**************************')\n",
    "count = 0\n",
    "player = 1\n",
    "while True: \n",
    "    print(board['T1'], '|', board['T2'], '|', board['T3'])\n",
    "    print('--+---+--')\n",
    "    print(board['M1'], '|', board['M2'], '|', board['M3'])\n",
    "    print('--+---+--')\n",
    "    print(board['D1'], '|', board['D2'], '|', board['D3'])\n",
    "    if count == 9:\n",
    "        break\n",
    "    while player == 1:\n",
    "        player_one = input(\"Player 1, please enter your turn: \")\n",
    "        if player_one in board and board[player_one] == ' ':\n",
    "            board[player_one] = 'x'\n",
    "        else:\n",
    "            print('enter valid value')\n",
    "            continue\n",
    "        player = 2\n",
    "        count = count + 1\n",
    "    while player == 2:\n",
    "        player_two = input(\"Player 2, please enter your turn: \")\n",
    "        if player_two in board and board[player_two] == ' ':\n",
    "            board[player_one] = 'o'\n",
    "        else:\n",
    "            print('enter valid value')\n",
    "            continue\n",
    "        player = 1\n",
    "        count = count + 1\n",
    "        "
   ]
  },
  {
   "cell_type": "code",
   "execution_count": null,
   "metadata": {},
   "outputs": [],
   "source": []
  }
 ],
 "metadata": {
  "kernelspec": {
   "display_name": "Python 3",
   "language": "python",
   "name": "python3"
  },
  "language_info": {
   "codemirror_mode": {
    "name": "ipython",
    "version": 3
   },
   "file_extension": ".py",
   "mimetype": "text/x-python",
   "name": "python",
   "nbconvert_exporter": "python",
   "pygments_lexer": "ipython3",
   "version": "3.7.6"
  }
 },
 "nbformat": 4,
 "nbformat_minor": 4
}
